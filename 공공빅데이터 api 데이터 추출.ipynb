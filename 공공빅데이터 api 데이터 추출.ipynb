{
 "cells": [
  {
   "cell_type": "code",
   "execution_count": 1,
   "metadata": {
    "ExecuteTime": {
     "end_time": "2021-10-06T07:44:13.779218Z",
     "start_time": "2021-10-06T07:44:13.437505Z"
    }
   },
   "outputs": [],
   "source": [
    "import urllib.request\n",
    "import json\n",
    "import pandas as pd\n",
    "import warnings\n",
    "warnings.filterwarnings('ignore')\n",
    "from pandas.io.json import json_normalize"
   ]
  },
  {
   "cell_type": "code",
   "execution_count": 38,
   "metadata": {
    "ExecuteTime": {
     "end_time": "2021-10-06T07:47:13.564272Z",
     "start_time": "2021-10-06T07:47:11.278217Z"
    },
    "scrolled": true
   },
   "outputs": [],
   "source": [
    "def certificate_one_page_data(page_num):\n",
    "    url =f\"http://apis.data.go.kr/B490007/qualAcquPtcond/getQualAcquPtcond?serviceKey=7fh9W60z5J0r%2BM%2FuoKIeOq9W4VCJuQ69uE%2BAzEkLNKmxTnRWeuPnOPB%2BxuaEhu6vFG3VVcoWRLu6QtdWrmn4wA%3D%3D&numOfRows=50&pageNo={page_num}&dataFormat=json&acquYy=2017&qualgbCd=T\"\n",
    "    response = urllib.request.urlopen(url)\n",
    "    json_str = response.read().decode(\"utf-8\")\n",
    "\n",
    "    json_object = json.loads(json_str)\n",
    "    json_object\n",
    "\n",
    "    body = [json_object['body']['items']]\n",
    "\n",
    "    df = json_normalize(json_object['body']['items'])\n",
    "    return df"
   ]
  },
  {
   "cell_type": "code",
   "execution_count": 39,
   "metadata": {
    "scrolled": true
   },
   "outputs": [
    {
     "data": {
      "text/html": [
       "<div>\n",
       "<style scoped>\n",
       "    .dataframe tbody tr th:only-of-type {\n",
       "        vertical-align: middle;\n",
       "    }\n",
       "\n",
       "    .dataframe tbody tr th {\n",
       "        vertical-align: top;\n",
       "    }\n",
       "\n",
       "    .dataframe thead th {\n",
       "        text-align: right;\n",
       "    }\n",
       "</style>\n",
       "<table border=\"1\" class=\"dataframe\">\n",
       "  <thead>\n",
       "    <tr style=\"text-align: right;\">\n",
       "      <th></th>\n",
       "      <th>acquYy</th>\n",
       "      <th>acquMm</th>\n",
       "      <th>qualgbCd</th>\n",
       "      <th>qualgbNm</th>\n",
       "      <th>rgnCd</th>\n",
       "      <th>rgnNm</th>\n",
       "      <th>ageGrupCd</th>\n",
       "      <th>ageGrupNm</th>\n",
       "      <th>genderCd</th>\n",
       "      <th>genderNm</th>\n",
       "      <th>seriesCd</th>\n",
       "      <th>seriesNm</th>\n",
       "      <th>jmCd</th>\n",
       "      <th>jmNm</th>\n",
       "      <th>acquCnt</th>\n",
       "    </tr>\n",
       "  </thead>\n",
       "  <tbody>\n",
       "    <tr>\n",
       "      <td>0</td>\n",
       "      <td>2017</td>\n",
       "      <td>01</td>\n",
       "      <td>T</td>\n",
       "      <td>국가기술자격</td>\n",
       "      <td>001</td>\n",
       "      <td>서울</td>\n",
       "      <td>1</td>\n",
       "      <td>10대</td>\n",
       "      <td>F</td>\n",
       "      <td>여성</td>\n",
       "      <td>04</td>\n",
       "      <td>기능사</td>\n",
       "      <td>7937</td>\n",
       "      <td>미용사(일반)</td>\n",
       "      <td>14</td>\n",
       "    </tr>\n",
       "    <tr>\n",
       "      <td>1</td>\n",
       "      <td>2017</td>\n",
       "      <td>01</td>\n",
       "      <td>T</td>\n",
       "      <td>국가기술자격</td>\n",
       "      <td>001</td>\n",
       "      <td>서울</td>\n",
       "      <td>1</td>\n",
       "      <td>10대</td>\n",
       "      <td>F</td>\n",
       "      <td>여성</td>\n",
       "      <td>04</td>\n",
       "      <td>기능사</td>\n",
       "      <td>7947</td>\n",
       "      <td>미용사(피부)</td>\n",
       "      <td>7</td>\n",
       "    </tr>\n",
       "    <tr>\n",
       "      <td>2</td>\n",
       "      <td>2017</td>\n",
       "      <td>01</td>\n",
       "      <td>T</td>\n",
       "      <td>국가기술자격</td>\n",
       "      <td>001</td>\n",
       "      <td>서울</td>\n",
       "      <td>1</td>\n",
       "      <td>10대</td>\n",
       "      <td>F</td>\n",
       "      <td>여성</td>\n",
       "      <td>04</td>\n",
       "      <td>기능사</td>\n",
       "      <td>7911</td>\n",
       "      <td>양식조리기능사</td>\n",
       "      <td>9</td>\n",
       "    </tr>\n",
       "    <tr>\n",
       "      <td>3</td>\n",
       "      <td>2017</td>\n",
       "      <td>01</td>\n",
       "      <td>T</td>\n",
       "      <td>국가기술자격</td>\n",
       "      <td>001</td>\n",
       "      <td>서울</td>\n",
       "      <td>1</td>\n",
       "      <td>10대</td>\n",
       "      <td>F</td>\n",
       "      <td>여성</td>\n",
       "      <td>04</td>\n",
       "      <td>기능사</td>\n",
       "      <td>7912</td>\n",
       "      <td>일식조리기능사</td>\n",
       "      <td>5</td>\n",
       "    </tr>\n",
       "    <tr>\n",
       "      <td>4</td>\n",
       "      <td>2017</td>\n",
       "      <td>01</td>\n",
       "      <td>T</td>\n",
       "      <td>국가기술자격</td>\n",
       "      <td>001</td>\n",
       "      <td>서울</td>\n",
       "      <td>1</td>\n",
       "      <td>10대</td>\n",
       "      <td>F</td>\n",
       "      <td>여성</td>\n",
       "      <td>04</td>\n",
       "      <td>기능사</td>\n",
       "      <td>6892</td>\n",
       "      <td>정보기기운용기능사</td>\n",
       "      <td>1</td>\n",
       "    </tr>\n",
       "  </tbody>\n",
       "</table>\n",
       "</div>"
      ],
      "text/plain": [
       "  acquYy acquMm qualgbCd qualgbNm rgnCd rgnNm ageGrupCd ageGrupNm genderCd  \\\n",
       "0   2017     01        T   국가기술자격   001    서울         1       10대        F   \n",
       "1   2017     01        T   국가기술자격   001    서울         1       10대        F   \n",
       "2   2017     01        T   국가기술자격   001    서울         1       10대        F   \n",
       "3   2017     01        T   국가기술자격   001    서울         1       10대        F   \n",
       "4   2017     01        T   국가기술자격   001    서울         1       10대        F   \n",
       "\n",
       "  genderNm seriesCd seriesNm  jmCd       jmNm  acquCnt  \n",
       "0       여성       04      기능사  7937    미용사(일반)       14  \n",
       "1       여성       04      기능사  7947    미용사(피부)        7  \n",
       "2       여성       04      기능사  7911    양식조리기능사        9  \n",
       "3       여성       04      기능사  7912    일식조리기능사        5  \n",
       "4       여성       04      기능사  6892  정보기기운용기능사        1  "
      ]
     },
     "execution_count": 39,
     "metadata": {},
     "output_type": "execute_result"
    }
   ],
   "source": [
    "certificate_one_page_data(1).head()"
   ]
  },
  {
   "cell_type": "code",
   "execution_count": 40,
   "metadata": {},
   "outputs": [],
   "source": [
    "import time\n",
    "from tqdm import trange"
   ]
  },
  {
   "cell_type": "code",
   "execution_count": 41,
   "metadata": {},
   "outputs": [],
   "source": [
    "def certificate_all_page_data(start_page, end_page):\n",
    "    page_list = []\n",
    "    for page_num in trange(start_page, end_page):\n",
    "        one_page = certificate_one_page_data(page_num)\n",
    "        if len(one_page) >0 :\n",
    "            page_list.append(one_page)\n",
    "        else :\n",
    "            return page_list\n",
    "    return page_list"
   ]
  }
 ],
 "metadata": {
  "kernelspec": {
   "display_name": "Python 3",
   "language": "python",
   "name": "python3"
  },
  "language_info": {
   "codemirror_mode": {
    "name": "ipython",
    "version": 3
   },
   "file_extension": ".py",
   "mimetype": "text/x-python",
   "name": "python",
   "nbconvert_exporter": "python",
   "pygments_lexer": "ipython3",
   "version": "3.7.4"
  },
  "toc": {
   "base_numbering": 1,
   "nav_menu": {},
   "number_sections": true,
   "sideBar": true,
   "skip_h1_title": false,
   "title_cell": "Table of Contents",
   "title_sidebar": "Contents",
   "toc_cell": false,
   "toc_position": {},
   "toc_section_display": true,
   "toc_window_display": false
  },
  "varInspector": {
   "cols": {
    "lenName": 16,
    "lenType": 16,
    "lenVar": 40
   },
   "kernels_config": {
    "python": {
     "delete_cmd_postfix": "",
     "delete_cmd_prefix": "del ",
     "library": "var_list.py",
     "varRefreshCmd": "print(var_dic_list())"
    },
    "r": {
     "delete_cmd_postfix": ") ",
     "delete_cmd_prefix": "rm(",
     "library": "var_list.r",
     "varRefreshCmd": "cat(var_dic_list()) "
    }
   },
   "types_to_exclude": [
    "module",
    "function",
    "builtin_function_or_method",
    "instance",
    "_Feature"
   ],
   "window_display": false
  }
 },
 "nbformat": 4,
 "nbformat_minor": 5
}
